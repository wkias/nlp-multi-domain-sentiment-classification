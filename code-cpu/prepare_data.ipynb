{
 "metadata": {
  "language_info": {
   "codemirror_mode": {
    "name": "ipython",
    "version": 3
   },
   "file_extension": ".py",
   "mimetype": "text/x-python",
   "name": "python",
   "nbconvert_exporter": "python",
   "pygments_lexer": "ipython3",
   "version": "3.8.5-final"
  },
  "orig_nbformat": 2,
  "kernelspec": {
   "name": "python38364bitptconda9db13356b8eb4e328cd26dce7c91a0ad",
   "display_name": "Python 3.8.5 64-bit ('pt': conda)"
  }
 },
 "nbformat": 4,
 "nbformat_minor": 2,
 "cells": [
  {
   "cell_type": "code",
   "execution_count": 1,
   "metadata": {},
   "outputs": [],
   "source": [
    "import os\n",
    "import gc\n",
    "import re\n",
    "import random\n",
    "import numpy as np\n",
    "gc.enable()"
   ]
  },
  {
   "cell_type": "code",
   "execution_count": 2,
   "metadata": {
    "tags": []
   },
   "outputs": [],
   "source": [
    "d = ['books','dvd','electronics','kitchen']\n",
    "dataPrefix = '../data_orginal/'\n",
    "datarefix = '../data/'\n",
    "sentences = []\n",
    "prop = '0'\n",
    "regex = '(<review_text>)([\\s\\S]*?)(</review_text>)'\n",
    "for i in d:\n",
    "    f = open(dataPrefix + 'temp/' + i + '.task', 'w', encoding='utf-8')\n",
    "    for j in  list(os.walk(dataPrefix + i))[0][2]:\n",
    "        if j.split('.')[0] == 'negative':\n",
    "            prop = '0'\n",
    "        elif j.split('.')[0] == 'positive':\n",
    "            prop = '1'\n",
    "        else:\n",
    "            continue\n",
    "        h = re.findall(regex, open(dataPrefix + i + '/' + j, encoding='utf-8').read())\n",
    "        sentences = [prop + '\\t' + i[1].replace('\\n',' ').replace('\"',' ').replace('  ',' ') + '\\n' for i in h]\n",
    "        for k in sentences:\n",
    "            f.write(k)\n",
    "    f.close()"
   ]
  },
  {
   "cell_type": "code",
   "execution_count": 3,
   "metadata": {},
   "outputs": [],
   "source": [
    "for i in list(os.walk(dataPrefix + 'temp/'))[0][2]:\n",
    "    with open(dataPrefix + 'temp/' + i, 'r', encoding='utf-8') as f:\n",
    "        reviews = f.readlines()\n",
    "    for j in range(10):\n",
    "        random.shuffle(reviews)\n",
    "    with open(datarefix + i + '.train', 'w', encoding='utf-8') as f:\n",
    "        for k in reviews[:1200]:\n",
    "            f.write(k)\n",
    "    with open(datarefix + i + '.test', 'w', encoding='utf-8') as f:\n",
    "        for k in reviews[1200:1600]:\n",
    "            f.write(k)\n",
    "    with open(datarefix + i + '.valid', 'w', encoding='utf-8') as f:\n",
    "        for k in reviews[1600:]:\n",
    "            f.write(k)"
   ]
  },
  {
   "cell_type": "code",
   "execution_count": 4,
   "metadata": {},
   "outputs": [],
   "source": [
    "words = []\n",
    "for i in list(os.walk(datarefix))[0][2]:\n",
    "    with open(datarefix + i, encoding=\"utf-8\") as f:\n",
    "        words.extend(f.read().split())\n",
    "words = set(words)"
   ]
  },
  {
   "cell_type": "code",
   "execution_count": 5,
   "metadata": {},
   "outputs": [
    {
     "output_type": "execute_result",
     "data": {
      "text/plain": [
       "419674"
      ]
     },
     "metadata": {},
     "execution_count": 5
    }
   ],
   "source": [
    "vect_words = set()\n",
    "with open('../glove.twitter.27B.200d.txt', 'r',encoding='utf-8') as f:\n",
    "    for line in f:\n",
    "        vect_words.add(line.split(' ')[0])\n",
    "\n",
    "words = words.intersection(vect_words)\n",
    "vocab_size = len(words)\n",
    "vocab_t = {w: idx for idx, w in enumerate(words)}\n",
    "open('../vocab_t','w',encoding='utf-8').write(str(vocab_t))"
   ]
  },
  {
   "cell_type": "code",
   "execution_count": 6,
   "metadata": {},
   "outputs": [],
   "source": [
    "vectors = {}\n",
    "with open('../glove.twitter.27B.200d.txt', 'r',encoding='utf-8') as f:\n",
    "    for line in f:\n",
    "        vals = line.rstrip().split(' ')\n",
    "        if vals[0] in words:\n",
    "            vectors[vals[0]] = [float(x) for x in vals[1:]]\n",
    "words = list(words)\n",
    "vocab_size = len(words)\n",
    "vocab_dim = len(vectors[words[0]])\n",
    "vector_t = np.zeros((vocab_size, vocab_dim))\n",
    "for word, v in vectors.items():\n",
    "    if word == '<unk>':\n",
    "        continue\n",
    "    vector_t[vocab_t[word], :] = v\n",
    "np.save('../vector_t',vector_t)"
   ]
  }
 ]
}