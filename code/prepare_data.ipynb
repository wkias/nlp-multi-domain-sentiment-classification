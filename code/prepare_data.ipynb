{
 "metadata": {
  "language_info": {
   "codemirror_mode": {
    "name": "ipython",
    "version": 3
   },
   "file_extension": ".py",
   "mimetype": "text/x-python",
   "name": "python",
   "nbconvert_exporter": "python",
   "pygments_lexer": "ipython3",
   "version": "3.8.5-final"
  },
  "orig_nbformat": 2,
  "kernelspec": {
   "name": "python38364bitptconda9db13356b8eb4e328cd26dce7c91a0ad",
   "display_name": "Python 3.8.5 64-bit ('pt': conda)"
  }
 },
 "nbformat": 4,
 "nbformat_minor": 2,
 "cells": [
  {
   "cell_type": "code",
   "execution_count": 1,
   "metadata": {},
   "outputs": [],
   "source": [
    "import os\n",
    "import gc\n",
    "import nltk\n",
    "from numba import jit\n",
    "import numpy as np\n",
    "gc.enable()"
   ]
  },
  {
   "cell_type": "code",
   "execution_count": 2,
   "metadata": {},
   "outputs": [],
   "source": [
    "dataPrefix = '../data/'\n",
    "dirr = list(os.walk(dataPrefix))[0][2]"
   ]
  },
  {
   "cell_type": "code",
   "execution_count": 3,
   "metadata": {
    "tags": []
   },
   "outputs": [],
   "source": [
    "a = []\n",
    "for i in dirr:\n",
    "    try:\n",
    "        a.extend(open(dataPrefix+i,'r',encoding='utf-8').readlines())\n",
    "    except UnicodeDecodeError:\n",
    "        a.extend(open(dataPrefix+i,'r',encoding='ISO-8859-1').readlines())"
   ]
  },
  {
   "cell_type": "code",
   "execution_count": 4,
   "metadata": {},
   "outputs": [],
   "source": [
    "words = []\n",
    "for i in a:\n",
    "    words.extend(nltk.tokenize.word_tokenize(i))\n",
    "words = list(set(words))"
   ]
  },
  {
   "cell_type": "code",
   "execution_count": 5,
   "metadata": {},
   "outputs": [],
   "source": [
    "stop_words = set(nltk.corpus.stopwords.words('english'))\n",
    "words = [w for w in words if w not in stop_words]"
   ]
  },
  {
   "cell_type": "code",
   "execution_count": 6,
   "metadata": {},
   "outputs": [],
   "source": [
    "vect_words = []\n",
    "with open('../glove.twitter.27B.200d.txt', 'r',encoding='utf-8') as f:\n",
    "    for line in f:\n",
    "        vect_words.append(line.split(' ')[0])\n",
    "\n",
    "words = set(words).intersection(set(vect_words))\n",
    "words = list(words)"
   ]
  },
  {
   "cell_type": "code",
   "execution_count": 7,
   "metadata": {},
   "outputs": [
    {
     "output_type": "execute_result",
     "data": {
      "text/plain": "660752"
     },
     "metadata": {},
     "execution_count": 7
    }
   ],
   "source": [
    "vocab_size = len(words)\n",
    "vocab_t = {w: idx for idx, w in enumerate(words)}\n",
    "open('../vocab_t','w',encoding='utf-8').write(str(vocab_t))\n",
    "open('../words','w',encoding='utf-8').write(str(words))"
   ]
  },
  {
   "source": [
    "vocab_t = eval(open('../vocab_t',encoding='utf-8').readline())\n",
    "words = eval(open('../words',encoding='utf-8').readline())"
   ],
   "cell_type": "code",
   "metadata": {},
   "execution_count": 2,
   "outputs": []
  },
  {
   "cell_type": "code",
   "execution_count": 8,
   "metadata": {},
   "outputs": [
    {
     "output_type": "error",
     "ename": "KeyboardInterrupt",
     "evalue": "",
     "traceback": [
      "\u001b[1;31m---------------------------------------------------------------------------\u001b[0m",
      "\u001b[1;31mKeyboardInterrupt\u001b[0m                         Traceback (most recent call last)",
      "\u001b[1;32m<ipython-input-8-8574c5b4f024>\u001b[0m in \u001b[0;36m<module>\u001b[1;34m\u001b[0m\n\u001b[0;32m      1\u001b[0m \u001b[0mvectors\u001b[0m \u001b[1;33m=\u001b[0m \u001b[1;33m{\u001b[0m\u001b[1;33m}\u001b[0m\u001b[1;33m\u001b[0m\u001b[1;33m\u001b[0m\u001b[0m\n\u001b[0;32m      2\u001b[0m \u001b[1;32mwith\u001b[0m \u001b[0mopen\u001b[0m\u001b[1;33m(\u001b[0m\u001b[1;34m'../glove.twitter.27B.200d.txt'\u001b[0m\u001b[1;33m,\u001b[0m \u001b[1;34m'r'\u001b[0m\u001b[1;33m,\u001b[0m\u001b[0mencoding\u001b[0m\u001b[1;33m=\u001b[0m\u001b[1;34m'utf-8'\u001b[0m\u001b[1;33m)\u001b[0m \u001b[1;32mas\u001b[0m \u001b[0mf\u001b[0m\u001b[1;33m:\u001b[0m\u001b[1;33m\u001b[0m\u001b[1;33m\u001b[0m\u001b[0m\n\u001b[1;32m----> 3\u001b[1;33m     \u001b[1;32mfor\u001b[0m \u001b[0mline\u001b[0m \u001b[1;32min\u001b[0m \u001b[0mf\u001b[0m\u001b[1;33m:\u001b[0m\u001b[1;33m\u001b[0m\u001b[1;33m\u001b[0m\u001b[0m\n\u001b[0m\u001b[0;32m      4\u001b[0m         \u001b[0mvals\u001b[0m \u001b[1;33m=\u001b[0m \u001b[0mline\u001b[0m\u001b[1;33m.\u001b[0m\u001b[0mrstrip\u001b[0m\u001b[1;33m(\u001b[0m\u001b[1;33m)\u001b[0m\u001b[1;33m.\u001b[0m\u001b[0msplit\u001b[0m\u001b[1;33m(\u001b[0m\u001b[1;34m' '\u001b[0m\u001b[1;33m)\u001b[0m\u001b[1;33m\u001b[0m\u001b[1;33m\u001b[0m\u001b[0m\n\u001b[0;32m      5\u001b[0m         \u001b[1;32mif\u001b[0m \u001b[0mvals\u001b[0m\u001b[1;33m[\u001b[0m\u001b[1;36m0\u001b[0m\u001b[1;33m]\u001b[0m \u001b[1;32min\u001b[0m \u001b[0mwords\u001b[0m\u001b[1;33m:\u001b[0m\u001b[1;33m\u001b[0m\u001b[1;33m\u001b[0m\u001b[0m\n",
      "\u001b[1;31mKeyboardInterrupt\u001b[0m: "
     ]
    }
   ],
   "source": [
    "vectors = {}\n",
    "with open('../glove.twitter.27B.200d.txt', 'r',encoding='utf-8') as f:\n",
    "    for line in f:\n",
    "        vals = line.rstrip().split(' ')\n",
    "        if vals[0] in words:\n",
    "            vectors[vals[0]] = [float(x) for x in vals[1:]]\n",
    "open('../vectors','w',encoding='utf-8').write(str(vectors))"
   ]
  },
  {
   "source": [
    "vectors = eval(open('../vectors',encoding='utf-8').readline())"
   ],
   "cell_type": "markdown",
   "metadata": {}
  },
  {
   "cell_type": "code",
   "execution_count": null,
   "metadata": {},
   "outputs": [],
   "source": [
    "vocab_size = len(words)\n",
    "vocab_dim = len(vectors[words[0]])\n",
    "W = np.zeros((vocab_size, vocab_dim))\n",
    "for word, v in vectors.items():\n",
    "    if word == '<unk>':\n",
    "        continue\n",
    "    W[vocab_t[word], :] = v\n",
    "np.save('../vector_t',W)"
   ]
  },
  {
   "source": [
    "vector_t = np.fromfile('../vector_t.npy')"
   ],
   "cell_type": "markdown",
   "metadata": {}
  }
 ]
}