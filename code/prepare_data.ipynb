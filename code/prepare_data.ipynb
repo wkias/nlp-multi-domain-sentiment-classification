{
 "metadata": {
  "language_info": {
   "codemirror_mode": {
    "name": "ipython",
    "version": 3
   },
   "file_extension": ".py",
   "mimetype": "text/x-python",
   "name": "python",
   "nbconvert_exporter": "python",
   "pygments_lexer": "ipython3",
   "version": "3.8.5-final"
  },
  "orig_nbformat": 2,
  "kernelspec": {
   "name": "python38364bitptconda9db13356b8eb4e328cd26dce7c91a0ad",
   "display_name": "Python 3.8.5 64-bit ('pt': conda)"
  }
 },
 "nbformat": 4,
 "nbformat_minor": 2,
 "cells": [
  {
   "cell_type": "code",
   "execution_count": null,
   "metadata": {},
   "outputs": [],
   "source": [
    "import os\n",
    "import gc\n",
    "import nltk\n",
    "import numpy as np\n",
    "gc.enable()"
   ]
  },
  {
   "cell_type": "code",
   "execution_count": null,
   "metadata": {
    "tags": []
   },
   "outputs": [],
   "source": [
    "dataPrefix = '../data/'\n",
    "dirr = list(os.walk(dataPrefix))[0][2]\n",
    "a = []\n",
    "for i in dirr:\n",
    "    try:\n",
    "        a.extend(open(dataPrefix+i,'r',encoding='utf-8').readlines())\n",
    "    except UnicodeDecodeError:\n",
    "        a.extend(open(dataPrefix+i,'r',encoding='ISO-8859-1').readlines())\n",
    "words = []\n",
    "for i in a:\n",
    "    words.extend(nltk.tokenize.word_tokenize(i))\n",
    "words = list(set(words))\n",
    "stop_words = set(nltk.corpus.stopwords.words('english'))\n",
    "words = [w for w in words if w not in stop_words]\n",
    "vocab_size = len(words)\n",
    "vocab_t = {w: idx for idx, w in enumerate(words)}\n",
    "open('../vocab_t','w',encoding='utf-8').write(str(vocab_t))\n",
    "del a\n",
    "del stop_words\n",
    "del words\n",
    "gc.collect()"
   ]
  },
  {
   "cell_type": "code",
   "execution_count": null,
   "metadata": {},
   "outputs": [],
   "source": [
    "vectors = {}\n",
    "with open('../glove.twitter.27B.200d.txt', 'r',encoding='utf-8') as f:\n",
    "    for line in f:\n",
    "        vals = line.rstrip().split(' ')\n",
    "        vectors[vals[0]] = [float(x) for x in vals[1:]]\n",
    "    del vals\n",
    "    gc.collect()\n",
    "W = np.zeros((vocab_size, 200))\n",
    "for word, v in vectors.items():\n",
    "    if word == '<unk>':\n",
    "        continue\n",
    "    W[vocab[word], :] = v\n",
    "W.save('../vector_t')"
   ]
  }
 ]
}