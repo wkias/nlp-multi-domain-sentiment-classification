{
 "metadata": {
  "language_info": {
   "codemirror_mode": {
    "name": "ipython",
    "version": 3
   },
   "file_extension": ".py",
   "mimetype": "text/x-python",
   "name": "python",
   "nbconvert_exporter": "python",
   "pygments_lexer": "ipython3",
   "version": "3.8.5-final"
  },
  "orig_nbformat": 2,
  "kernelspec": {
   "name": "python38364bitptconda9db13356b8eb4e328cd26dce7c91a0ad",
   "display_name": "Python 3.8.5 64-bit ('pt': conda)"
  }
 },
 "nbformat": 4,
 "nbformat_minor": 2,
 "cells": [
  {
   "cell_type": "code",
   "execution_count": 1,
   "metadata": {},
   "outputs": [],
   "source": [
    "import os\n",
    "import gc\n",
    "import numpy as np\n",
    "gc.enable()"
   ]
  },
  {
   "cell_type": "code",
   "execution_count": 2,
   "metadata": {
    "tags": []
   },
   "outputs": [],
   "source": [
    "dataPrefix = '../data_orginal/'\n",
    "dirr = list(os.walk(dataPrefix))[0][2]\n",
    "words = []\n",
    "encodingSet = set([\"dvd.task.train\", \"MR.task.test\", \"MR.task.train\"])\n",
    "for i in dirr:\n",
    "    if i.split('.')[-1] == 'unlabel':\n",
    "        continue\n",
    "    try:\n",
    "        for j in open(dataPrefix+i,\n",
    "                            encoding=\"utf-8\" if i not in encodingSet else \"ISO-8859-1\").readlines():\n",
    "            words.extend(j.split('\\t')[1].split())\n",
    "    except IndexError:\n",
    "        print(i)\n",
    "        for j in open(dataPrefix+i,\n",
    "                            encoding=\"utf-8\" if i not in encodingSet else \"ISO-8859-1\").readlines():\n",
    "            words.extend(j.split())\n",
    "words = set(words)"
   ]
  },
  {
   "cell_type": "code",
   "execution_count": 3,
   "metadata": {},
   "outputs": [],
   "source": [
    "vect_words = set()\n",
    "with open('../glove.twitter.27B.200d.txt', 'r',encoding='utf-8') as f:\n",
    "    for line in f:\n",
    "        vect_words.add(line.split(' ')[0])\n",
    "\n",
    "words = set(words).intersection(set(vect_words))\n",
    "# words = list(words)"
   ]
  },
  {
   "cell_type": "code",
   "execution_count": 4,
   "metadata": {},
   "outputs": [
    {
     "output_type": "execute_result",
     "data": {
      "text/plain": [
       "569724"
      ]
     },
     "metadata": {},
     "execution_count": 4
    }
   ],
   "source": [
    "vocab_size = len(words)\n",
    "vocab_t = {w: idx for idx, w in enumerate(words)}\n",
    "open('../vocab_t','w',encoding='utf-8').write(str(vocab_t))\n",
    "open('../words','w',encoding='utf-8').write(str(words))"
   ]
  },
  {
   "source": [
    "# vocab_t = eval(open('../vocab_t',encoding='utf-8').readline())\n",
    "# words = eval(open('../words',encoding='utf-8').readline())"
   ],
   "cell_type": "code",
   "metadata": {},
   "execution_count": null,
   "outputs": []
  },
  {
   "cell_type": "code",
   "execution_count": 5,
   "metadata": {},
   "outputs": [
    {
     "output_type": "execute_result",
     "data": {
      "text/plain": [
       "97902400"
      ]
     },
     "metadata": {},
     "execution_count": 5
    }
   ],
   "source": [
    "vectors = {}\n",
    "with open('../glove.twitter.27B.200d.txt', 'r',encoding='utf-8') as f:\n",
    "    for line in f:\n",
    "        vals = line.rstrip().split(' ')\n",
    "        if vals[0] in words:\n",
    "            vectors[vals[0]] = [float(x) for x in vals[1:]]\n",
    "open('../vectors','w',encoding='utf-8').write(str(vectors))"
   ]
  },
  {
   "source": [
    "# vectors = eval(open('../vectors',encoding='utf-8').readline())"
   ],
   "cell_type": "code",
   "metadata": {},
   "execution_count": null,
   "outputs": []
  },
  {
   "cell_type": "code",
   "execution_count": 8,
   "metadata": {},
   "outputs": [],
   "source": [
    "words = list(words)\n",
    "vocab_size = len(words)\n",
    "vocab_dim = len(vectors[words[0]])\n",
    "vector_t = np.zeros((vocab_size, vocab_dim))\n",
    "for word, v in vectors.items():\n",
    "    if word == '<unk>':\n",
    "        continue\n",
    "    vector_t[vocab_t[word], :] = v\n",
    "np.save('../vector_t',vector_t)"
   ]
  },
  {
   "source": [
    "vector_t = np.fromfile('../vector_t.npy')"
   ],
   "cell_type": "markdown",
   "metadata": {}
  },
  {
   "cell_type": "code",
   "execution_count": null,
   "metadata": {},
   "outputs": [],
   "source": [
    "ind = 0\n",
    "for i in range(2):\n",
    "    if i == 0:\n",
    "        string = \"train\"\n",
    "    elif i == 1:\n",
    "        string = \"test\"\n",
    "    for fileName in dirr:\n",
    "        fileNameLS = fileName.split('.')\n",
    "        if fileNameLS[-1] != string:\n",
    "            continue\n",
    "        file = open(self.dataPrefix+fileName,\n",
    "                    encoding=\"utf-8\" if fileName not in self.encodingSet else \"ISO-8859-1\")\n",
    "        if i == 0:\n",
    "            self.name.append(fileNameLS[0])\n",
    "            insertedInd = ind\n",
    "            ind += 1\n",
    "        else:\n",
    "            insertedInd = self.name.index(fileNameLS[0])\n",
    "        tmpI = 0\n",
    "        for line in file:\n",
    "            lineLS = line.split('\\t')\n",
    "            lineLS[0] = int(lineLS[0])\n",
    "            lineLS[1] = lineLS[1].split()\n",
    "            tmpI += 1\n",
    "            ls[insertedInd].append(lineLS)\n",
    "for i in range(self.config.task):\n",
    "    random.shuffle(self.train[i])"
   ]
  }
 ]
}